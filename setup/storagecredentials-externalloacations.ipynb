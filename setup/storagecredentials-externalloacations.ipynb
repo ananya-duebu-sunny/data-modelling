{
 "cells": [
  {
   "cell_type": "code",
   "execution_count": 0,
   "metadata": {
    "application/vnd.databricks.v1+cell": {
     "cellMetadata": {
      "byteLimit": 2048000,
      "rowLimit": 10000
     },
     "inputWidgets": {},
     "nuid": "193c6659-1094-4c79-bc12-816776953f04",
     "showTitle": false,
     "tableResultSettingsMap": {},
     "title": ""
    }
   },
   "outputs": [],
   "source": [
    "\n",
    "CREATE EXTERNAL LOCATION learndatamodelling_datamodel\n",
    "URL 'abfss://datamodel@learndatamodelling.dfs.core.windows.net'\n",
    "WITH (STORAGE CREDENTIAL `workspace-dev-001-sc`)"
   ]
  },
  {
   "cell_type": "code",
   "execution_count": 0,
   "metadata": {
    "application/vnd.databricks.v1+cell": {
     "cellMetadata": {
      "byteLimit": 2048000,
      "rowLimit": 10000
     },
     "inputWidgets": {},
     "nuid": "e51df4e3-0e1d-4280-8ce4-46d2daf79453",
     "showTitle": false,
     "tableResultSettingsMap": {},
     "title": ""
    }
   },
   "outputs": [],
   "source": [
    "drop schema if exists stocks.gold_dev;\n",
    "drop schema if exists stocks.silver_dev;\n",
    "drop schema if exists stocks.bronze_dev;"
   ]
  },
  {
   "cell_type": "code",
   "execution_count": 0,
   "metadata": {
    "application/vnd.databricks.v1+cell": {
     "cellMetadata": {
      "byteLimit": 2048000,
      "rowLimit": 10000
     },
     "inputWidgets": {},
     "nuid": "83216351-5fed-46a8-816a-1629a063f1ee",
     "showTitle": false,
     "tableResultSettingsMap": {},
     "title": ""
    }
   },
   "outputs": [],
   "source": [
    "use catalog stocks"
   ]
  },
  {
   "cell_type": "code",
   "execution_count": 0,
   "metadata": {
    "application/vnd.databricks.v1+cell": {
     "cellMetadata": {
      "byteLimit": 2048000,
      "rowLimit": 10000
     },
     "inputWidgets": {},
     "nuid": "8a9586c7-c7f7-4e5b-a44a-925494e4cbec",
     "showTitle": false,
     "tableResultSettingsMap": {},
     "title": ""
    }
   },
   "outputs": [],
   "source": [
    "create schema if not exists bronze_dev\n",
    "managed location 'abfss://datamodel@learndatamodelling.dfs.core.windows.net/stocks/bronze';\n",
    "\n",
    "create schema if not exists silver_dev\n",
    "managed location 'abfss://datamodel@learndatamodelling.dfs.core.windows.net/stocks/silver';\n",
    "\n",
    "create schema if not exists gold_dev\n",
    "managed location 'abfss://datamodel@learndatamodelling.dfs.core.windows.net/stocks/gold';"
   ]
  }
 ],
 "metadata": {
  "application/vnd.databricks.v1+notebook": {
   "computePreferences": {
    "hardware": {
     "accelerator": null,
     "gpuPoolId": null,
     "memory": null
    }
   },
   "dashboards": [],
   "environmentMetadata": {
    "base_environment": "",
    "environment_version": "3"
   },
   "inputWidgetPreferences": null,
   "language": "sql",
   "notebookMetadata": {
    "pythonIndentUnit": 4
   },
   "notebookName": "storagecredentials-externalloacations",
   "widgets": {}
  },
  "language_info": {
   "name": "sql"
  }
 },
 "nbformat": 4,
 "nbformat_minor": 0
}

{
 "cells": [
  {
   "cell_type": "code",
   "execution_count": 0,
   "metadata": {
    "application/vnd.databricks.v1+cell": {
     "cellMetadata": {
      "byteLimit": 2048000,
      "rowLimit": 10000
     },
     "inputWidgets": {},
     "nuid": "3f02e919-d5aa-4040-8cba-820a984c22ad",
     "showTitle": false,
     "tableResultSettingsMap": {},
     "title": ""
    }
   },
   "outputs": [],
   "source": [
    "from datetime import datetime, timedelta"
   ]
  },
  {
   "cell_type": "code",
   "execution_count": 0,
   "metadata": {
    "application/vnd.databricks.v1+cell": {
     "cellMetadata": {
      "byteLimit": 2048000,
      "rowLimit": 10000
     },
     "inputWidgets": {},
     "nuid": "b4586dd0-f655-4cb7-8eea-2f99b8cc66e1",
     "showTitle": false,
     "tableResultSettingsMap": {},
     "title": ""
    }
   },
   "outputs": [],
   "source": [
    "dbutils.widgets.text('p_catalog_name','')\n",
    "dbutils.widgets.text('p_schema_name','')\n",
    "dbutils.widgets.text('p_table_name','')\n",
    "dbutils.widgets.text('p_storage_account_baseURL','')\n",
    "dbutils.widgets.text('p_container','')\n",
    "dbutils.widgets.text('p_control_schema','')\n",
    "dbutils.widgets.text('p_control_table','')\n",
    "# dbutils.widgets.dropdown('p_load_type','incremental',['full','incremental'])\n",
    "\n",
    "catalog_name = dbutils.widgets.get('p_catalog_name')\n",
    "schema_name = dbutils.widgets.get('p_schema_name')\n",
    "table_name = dbutils.widgets.get('p_table_name')\n",
    "storage_account = dbutils.widgets.get('p_storage_account_baseURL')\n",
    "container = dbutils.widgets.get('p_container')\n",
    "control_schema = dbutils.widgets.get('p_control_schema')\n",
    "control_table = dbutils.widgets.get('p_control_table')\n",
    "# load_type = dbutils.widgets.get('p_load_type')"
   ]
  },
  {
   "cell_type": "code",
   "execution_count": 0,
   "metadata": {
    "application/vnd.databricks.v1+cell": {
     "cellMetadata": {
      "byteLimit": 2048000,
      "rowLimit": 10000
     },
     "inputWidgets": {},
     "nuid": "2edcf8ac-e1ef-4e79-9553-dcc1ec4dcfa7",
     "showTitle": false,
     "tableResultSettingsMap": {},
     "title": ""
    }
   },
   "outputs": [],
   "source": [
    "last_load_date_bronze = spark.sql(f\"SELECT last_loaded_date_bronze FROM stocks.control_schema.control_table\").collect()[0][0]\n",
    "\n",
    "next_date = (datetime.strptime(last_load_date_bronze, \"%Y-%m-%d\") + timedelta(days=1)).strftime(\"%Y-%m-%d\")"
   ]
  },
  {
   "cell_type": "code",
   "execution_count": 0,
   "metadata": {
    "application/vnd.databricks.v1+cell": {
     "cellMetadata": {
      "byteLimit": 2048000,
      "rowLimit": 10000
     },
     "inputWidgets": {},
     "nuid": "6e843239-93e8-4138-86aa-6ba3830e3b7c",
     "showTitle": false,
     "tableResultSettingsMap": {},
     "title": ""
    }
   },
   "outputs": [],
   "source": [
    "if not spark.catalog.tableExists(f\"{catalog_name}.{schema_name}.{table_name}\"):\n",
    "    # First-time load → full\n",
    "    spark.sql(\n",
    "        f\"\"\"\n",
    "        CREATE TABLE IF NOT EXISTS {catalog_name}.{schema_name}.{table_name} (\n",
    "            value STRING,\n",
    "            ingestion_date DATE,\n",
    "            ingestion_timestamp TIMESTAMP,\n",
    "            file_path STRING\n",
    "        )\n",
    "        USING delta\n",
    "        partitioned by (ingestion_date)\n",
    "        \"\"\"\n",
    "    )\n",
    "\n",
    "    spark.sql(\n",
    "        f\"\"\"\n",
    "        COPY INTO {catalog_name}.{schema_name}.{table_name}\n",
    "        FROM (\n",
    "            SELECT\n",
    "                value,\n",
    "                current_date() AS ingestion_date,\n",
    "                current_timestamp() AS ingestion_timestamp,\n",
    "                _metadata.file_path AS file_path\n",
    "            FROM 'abfss://{container}@{storage_account}/stocks/raw/full_load/'\n",
    "        )\n",
    "        FILEFORMAT = TEXT\n",
    "        COPY_OPTIONS ('mergeSchema' = 'true')\n",
    "        \"\"\"\n",
    "    )\n",
    "else:\n",
    "    # Incremental\n",
    "    spark.sql(\n",
    "        f\"\"\"\n",
    "        COPY INTO {catalog_name}.{schema_name}.{table_name}\n",
    "        FROM (\n",
    "            SELECT\n",
    "                value,\n",
    "                current_date() AS ingestion_date,\n",
    "                current_timestamp() AS ingestion_timestamp,\n",
    "                _metadata.file_path AS file_path\n",
    "            FROM 'abfss://{container}@{storage_account}/stocks/raw/incremental/{next_date}/'\n",
    "        )\n",
    "        FILEFORMAT = TEXT\n",
    "        COPY_OPTIONS ('mergeSchema' = 'true')\n",
    "        \"\"\"\n",
    "    )\n"
   ]
  },
  {
   "cell_type": "code",
   "execution_count": 0,
   "metadata": {
    "application/vnd.databricks.v1+cell": {
     "cellMetadata": {
      "byteLimit": 2048000,
      "rowLimit": 10000
     },
     "inputWidgets": {},
     "nuid": "60f04b42-eadb-4c94-8958-9dfbfa4da115",
     "showTitle": false,
     "tableResultSettingsMap": {},
     "title": ""
    }
   },
   "outputs": [],
   "source": [
    "spark.sql(f\"Update {catalog_name}.{control_schema}.{control_table} set last_loaded_date_bronze = '{next_date}'\")\n"
   ]
  },
  {
   "cell_type": "code",
   "execution_count": 0,
   "metadata": {
    "application/vnd.databricks.v1+cell": {
     "cellMetadata": {
      "byteLimit": 2048000,
      "implicitDf": true,
      "rowLimit": 10000
     },
     "inputWidgets": {},
     "nuid": "6f6de952-ac99-4792-a462-3d7980ca214b",
     "showTitle": false,
     "tableResultSettingsMap": {},
     "title": ""
    }
   },
   "outputs": [],
   "source": [
    "%sql\n",
    "select count(*)\n",
    "from stocks.bronze_dev.stocks_dev"
   ]
  },
  {
   "cell_type": "code",
   "execution_count": 0,
   "metadata": {
    "application/vnd.databricks.v1+cell": {
     "cellMetadata": {
      "byteLimit": 2048000,
      "implicitDf": true,
      "rowLimit": 10000
     },
     "inputWidgets": {},
     "nuid": "21d7a288-c761-43d1-84bc-d86590e77f71",
     "showTitle": false,
     "tableResultSettingsMap": {},
     "title": ""
    }
   },
   "outputs": [],
   "source": [
    "%sql\n",
    "select * from stocks.bronze_dev.stocks_dev"
   ]
  }
 ],
 "metadata": {
  "application/vnd.databricks.v1+notebook": {
   "computePreferences": {
    "hardware": {
     "accelerator": null,
     "gpuPoolId": null,
     "memory": null
    }
   },
   "dashboards": [],
   "environmentMetadata": {
    "base_environment": "",
    "environment_version": "3"
   },
   "inputWidgetPreferences": null,
   "language": "python",
   "notebookMetadata": {
    "mostRecentlyExecutedCommandWithImplicitDF": {
     "commandId": 6864089783271096,
     "dataframes": [
      "_sqldf"
     ]
    },
    "pythonIndentUnit": 4
   },
   "notebookName": "bronze",
   "widgets": {
    "p_catalog_name": {
     "currentValue": "stocks",
     "nuid": "edeb09ce-e8a5-40eb-800c-762a2aca9ad9",
     "typedWidgetInfo": {
      "autoCreated": false,
      "defaultValue": "",
      "label": null,
      "name": "p_catalog_name",
      "options": {
       "widgetDisplayType": "Text",
       "validationRegex": null
      },
      "parameterDataType": "String"
     },
     "widgetInfo": {
      "widgetType": "text",
      "defaultValue": "",
      "label": null,
      "name": "p_catalog_name",
      "options": {
       "widgetType": "text",
       "autoCreated": null,
       "validationRegex": null
      }
     }
    },
    "p_container": {
     "currentValue": "datamodel",
     "nuid": "d4f16a98-78f7-4624-ab80-1a69dd743378",
     "typedWidgetInfo": {
      "autoCreated": false,
      "defaultValue": "",
      "label": null,
      "name": "p_container",
      "options": {
       "widgetDisplayType": "Text",
       "validationRegex": null
      },
      "parameterDataType": "String"
     },
     "widgetInfo": {
      "widgetType": "text",
      "defaultValue": "",
      "label": null,
      "name": "p_container",
      "options": {
       "widgetType": "text",
       "autoCreated": null,
       "validationRegex": null
      }
     }
    },
    "p_control_schema": {
     "currentValue": "control_schema",
     "nuid": "4b206021-3b22-4ba5-8d04-440c3461a68e",
     "typedWidgetInfo": {
      "autoCreated": false,
      "defaultValue": "",
      "label": null,
      "name": "p_control_schema",
      "options": {
       "widgetDisplayType": "Text",
       "validationRegex": null
      },
      "parameterDataType": "String"
     },
     "widgetInfo": {
      "widgetType": "text",
      "defaultValue": "",
      "label": null,
      "name": "p_control_schema",
      "options": {
       "widgetType": "text",
       "autoCreated": null,
       "validationRegex": null
      }
     }
    },
    "p_control_table": {
     "currentValue": "control_table",
     "nuid": "5a778914-6aa7-44a2-9e73-9714a946b63a",
     "typedWidgetInfo": {
      "autoCreated": false,
      "defaultValue": "",
      "label": null,
      "name": "p_control_table",
      "options": {
       "widgetDisplayType": "Text",
       "validationRegex": null
      },
      "parameterDataType": "String"
     },
     "widgetInfo": {
      "widgetType": "text",
      "defaultValue": "",
      "label": null,
      "name": "p_control_table",
      "options": {
       "widgetType": "text",
       "autoCreated": null,
       "validationRegex": null
      }
     }
    },
    "p_schema_name": {
     "currentValue": "bronze_dev",
     "nuid": "040f6b46-68eb-46f9-9ac1-d43ce9974ce5",
     "typedWidgetInfo": {
      "autoCreated": false,
      "defaultValue": "",
      "label": null,
      "name": "p_schema_name",
      "options": {
       "widgetDisplayType": "Text",
       "validationRegex": null
      },
      "parameterDataType": "String"
     },
     "widgetInfo": {
      "widgetType": "text",
      "defaultValue": "",
      "label": null,
      "name": "p_schema_name",
      "options": {
       "widgetType": "text",
       "autoCreated": null,
       "validationRegex": null
      }
     }
    },
    "p_storage_account_baseURL": {
     "currentValue": "learndatamodelling.dfs.core.windows.net",
     "nuid": "818b54f4-60f6-46eb-8197-c3d6a15c3fcc",
     "typedWidgetInfo": {
      "autoCreated": false,
      "defaultValue": "",
      "label": null,
      "name": "p_storage_account_baseURL",
      "options": {
       "widgetDisplayType": "Text",
       "validationRegex": null
      },
      "parameterDataType": "String"
     },
     "widgetInfo": {
      "widgetType": "text",
      "defaultValue": "",
      "label": null,
      "name": "p_storage_account_baseURL",
      "options": {
       "widgetType": "text",
       "autoCreated": null,
       "validationRegex": null
      }
     }
    },
    "p_table_name": {
     "currentValue": "stocks_dev",
     "nuid": "10500387-e0b1-41eb-b7f3-c1bd0d0437fb",
     "typedWidgetInfo": {
      "autoCreated": false,
      "defaultValue": "",
      "label": null,
      "name": "p_table_name",
      "options": {
       "widgetDisplayType": "Text",
       "validationRegex": null
      },
      "parameterDataType": "String"
     },
     "widgetInfo": {
      "widgetType": "text",
      "defaultValue": "",
      "label": null,
      "name": "p_table_name",
      "options": {
       "widgetType": "text",
       "autoCreated": null,
       "validationRegex": null
      }
     }
    }
   }
  },
  "language_info": {
   "name": "python"
  }
 },
 "nbformat": 4,
 "nbformat_minor": 0
}

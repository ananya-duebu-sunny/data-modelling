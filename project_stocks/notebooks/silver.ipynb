{
 "cells": [
  {
   "cell_type": "code",
   "execution_count": 0,
   "metadata": {
    "application/vnd.databricks.v1+cell": {
     "cellMetadata": {
      "byteLimit": 2048000,
      "rowLimit": 10000
     },
     "inputWidgets": {},
     "nuid": "f5148fe1-9514-4ca9-bcc0-ecfd56e609cb",
     "showTitle": false,
     "tableResultSettingsMap": {},
     "title": ""
    }
   },
   "outputs": [],
   "source": [
    "from pyspark.sql.functions import col, explode, arrays_zip, from_unixtime,date_format,round"
   ]
  },
  {
   "cell_type": "code",
   "execution_count": 0,
   "metadata": {
    "application/vnd.databricks.v1+cell": {
     "cellMetadata": {
      "byteLimit": 2048000,
      "rowLimit": 10000
     },
     "inputWidgets": {},
     "nuid": "f1e2ebed-555b-4a1a-9e48-eaf14a3d45f2",
     "showTitle": false,
     "tableResultSettingsMap": {},
     "title": ""
    }
   },
   "outputs": [],
   "source": [
    "df_bronze = spark.table('stocks.bronze_dev.stocks')"
   ]
  },
  {
   "cell_type": "code",
   "execution_count": 0,
   "metadata": {
    "application/vnd.databricks.v1+cell": {
     "cellMetadata": {
      "byteLimit": 2048000,
      "rowLimit": 10000
     },
     "inputWidgets": {},
     "nuid": "7df5d0b4-a529-42a0-ac6e-4bd928e1c1dd",
     "showTitle": false,
     "tableResultSettingsMap": {},
     "title": ""
    }
   },
   "outputs": [],
   "source": [
    "df_silver = (df_bronze\n",
    "    .selectExpr(\"chart.result[0].meta.symbol as symbol\",\n",
    "                \"chart.result[0].meta.fiftyTwoWeekHigh as fiftyTwoWeekHigh\",\n",
    "                \"chart.result[0].meta.fiftyTwoWeekLow as fiftyTwoWeekLow\",\n",
    "                \"chart.result[0].meta.longName as stockName\",\n",
    "                \"chart.result[0].timestamp as timestamp\",\n",
    "                \"chart.result[0].indicators.quote[0].open as open\",\n",
    "                \"chart.result[0].indicators.quote[0].high as high\",\n",
    "                \"chart.result[0].indicators.quote[0].low as low\",\n",
    "                \"chart.result[0].indicators.quote[0].close as close\",\n",
    "                \"chart.result[0].indicators.quote[0].volume as volume\",\n",
    "                \"chart.result[0].indicators.adjclose[0].adjclose as adjclose\")\n",
    "    # Zip arrays together so each index aligns\n",
    "    .withColumn(\"zipped\", arrays_zip(\"timestamp\",\"open\",\"high\",\"low\",\"close\",\"volume\",\"adjclose\"))\n",
    "    # Explode zipped array → one row per trading day\n",
    "    .withColumn(\"zipped\", explode(col(\"zipped\")))\n",
    "    .withColumn(\"trade_date\",date_format(col(\"zipped.timestamp\").cast(\"timestamp\"),\"yyyy-MM-dd\"))\n",
    "    # Flatten zipped struct into columns\n",
    "    .select(\n",
    "        col(\"symbol\"),\n",
    "        col(\"stockName\"),\n",
    "        col(\"trade_date\").cast(\"date\"),\n",
    "        round(col(\"zipped.open\"),2).alias(\"open\"),\n",
    "        round(col(\"zipped.high\"),2).alias(\"high\"),\n",
    "        round(col(\"zipped.low\"),2).alias(\"low\"),\n",
    "        round(col(\"zipped.close\"),2).alias(\"close\"),\n",
    "        col(\"zipped.volume\").alias(\"volume\"),\n",
    "        round(col(\"zipped.adjclose\"),2).alias(\"adjclose\"),\n",
    "        col(\"fiftyTwoWeekHigh\"),\n",
    "        col(\"fiftyTwoWeekLow\")\n",
    "    )\n",
    "    \n",
    ")"
   ]
  },
  {
   "cell_type": "code",
   "execution_count": 0,
   "metadata": {
    "application/vnd.databricks.v1+cell": {
     "cellMetadata": {
      "byteLimit": 2048000,
      "rowLimit": 10000
     },
     "inputWidgets": {},
     "nuid": "0c3eec54-dbfc-4f37-b758-991612c386b0",
     "showTitle": false,
     "tableResultSettingsMap": {
      "0": {
       "dataGridStateBlob": "{\"version\":1,\"tableState\":{\"columnPinning\":{\"left\":[\"#row_number#\"],\"right\":[]},\"columnSizing\":{},\"columnVisibility\":{}},\"settings\":{\"columns\":{}},\"syncTimestamp\":1758219513270}",
       "filterBlob": null,
       "queryPlanFiltersBlob": null,
       "tableResultIndex": 0
      }
     },
     "title": ""
    }
   },
   "outputs": [],
   "source": [
    "df_silver.createOrReplaceTempView(\"silver_view\")"
   ]
  },
  {
   "cell_type": "code",
   "execution_count": 0,
   "metadata": {
    "application/vnd.databricks.v1+cell": {
     "cellMetadata": {
      "byteLimit": 2048000,
      "implicitDf": true,
      "rowLimit": 10000
     },
     "inputWidgets": {},
     "nuid": "5fb407ec-9430-4f2b-961e-9c130dd54264",
     "showTitle": false,
     "tableResultSettingsMap": {},
     "title": ""
    }
   },
   "outputs": [],
   "source": [
    "%sql\n",
    "create or replace table stocks.silver_dev.stocks as\n",
    "select * from silver_view"
   ]
  }
 ],
 "metadata": {
  "application/vnd.databricks.v1+notebook": {
   "computePreferences": {
    "hardware": {
     "accelerator": null,
     "gpuPoolId": null,
     "memory": null
    }
   },
   "dashboards": [],
   "environmentMetadata": {
    "base_environment": "",
    "environment_version": "3"
   },
   "inputWidgetPreferences": null,
   "language": "python",
   "notebookMetadata": {
    "mostRecentlyExecutedCommandWithImplicitDF": {
     "commandId": 5954719639013935,
     "dataframes": [
      "_sqldf"
     ]
    },
    "pythonIndentUnit": 4
   },
   "notebookName": "silver",
   "widgets": {}
  },
  "language_info": {
   "name": "python"
  }
 },
 "nbformat": 4,
 "nbformat_minor": 0
}

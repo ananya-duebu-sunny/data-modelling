{
 "cells": [
  {
   "cell_type": "code",
   "execution_count": 0,
   "metadata": {
    "application/vnd.databricks.v1+cell": {
     "cellMetadata": {
      "byteLimit": 2048000,
      "rowLimit": 10000
     },
     "inputWidgets": {},
     "nuid": "f5148fe1-9514-4ca9-bcc0-ecfd56e609cb",
     "showTitle": false,
     "tableResultSettingsMap": {},
     "title": ""
    }
   },
   "outputs": [],
   "source": [
    "from pyspark.sql.functions import *"
   ]
  },
  {
   "cell_type": "code",
   "execution_count": 0,
   "metadata": {
    "application/vnd.databricks.v1+cell": {
     "cellMetadata": {
      "byteLimit": 2048000,
      "rowLimit": 10000
     },
     "inputWidgets": {},
     "nuid": "8fcfa0ef-a380-4415-a801-818f639bf1c6",
     "showTitle": false,
     "tableResultSettingsMap": {},
     "title": ""
    }
   },
   "outputs": [],
   "source": [
    "dbutils.widgets.text('p_catalog_name','')\n",
    "dbutils.widgets.text('p_source_schema_name','')\n",
    "dbutils.widgets.text('p_schema_name','')\n",
    "dbutils.widgets.text('p_source_table_name','')\n",
    "dbutils.widgets.text('p_table_name','')\n",
    "dbutils.widgets.text('p_storage_account_baseURL','')\n",
    "dbutils.widgets.text('p_container','')\n",
    "dbutils.widgets.text('p_last_loaded_date','')\n",
    "# dbutils.widgets.text('p_control_schema','')\n",
    "# dbutils.widgets.text('p_control_table','')\n",
    "# dbutils.widgets.dropdown('p_load_type','incremental',['full','incremental'])\n",
    "\n",
    "catalog_name = dbutils.widgets.get('p_catalog_name')\n",
    "source_schema_name = dbutils.widgets.get('p_source_schema_name')\n",
    "schema_name = dbutils.widgets.get('p_schema_name')\n",
    "source_table_name = dbutils.widgets.get('p_source_table_name')\n",
    "table_name = dbutils.widgets.get('p_table_name')\n",
    "storage_account = dbutils.widgets.get('p_storage_account_baseURL')\n",
    "container = dbutils.widgets.get('p_container')\n",
    "last_loaded_date = dbutils.widgets.get('p_last_loaded_date')\n",
    "# control_schema = dbutils.widgets.get('p_control_schema')\n",
    "# control_table = dbutils.widgets.get('p_control_table')\n",
    "# load_type = dbutils.widgets.get('p_load_type')"
   ]
  },
  {
   "cell_type": "code",
   "execution_count": 0,
   "metadata": {
    "application/vnd.databricks.v1+cell": {
     "cellMetadata": {
      "byteLimit": 2048000,
      "rowLimit": 10000
     },
     "inputWidgets": {},
     "nuid": "858f6aab-6936-4113-b381-d9e06bea1a9e",
     "showTitle": false,
     "tableResultSettingsMap": {},
     "title": ""
    }
   },
   "outputs": [],
   "source": [
    "last_loaded_date"
   ]
  },
  {
   "cell_type": "code",
   "execution_count": 0,
   "metadata": {
    "application/vnd.databricks.v1+cell": {
     "cellMetadata": {
      "byteLimit": 2048000,
      "rowLimit": 10000
     },
     "inputWidgets": {},
     "nuid": "f1e2ebed-555b-4a1a-9e48-eaf14a3d45f2",
     "showTitle": false,
     "tableResultSettingsMap": {},
     "title": ""
    }
   },
   "outputs": [],
   "source": [
    "df_ingested = spark.table(f'{catalog_name}.{source_schema_name}.{source_table_name}')"
   ]
  },
  {
   "cell_type": "code",
   "execution_count": 0,
   "metadata": {
    "application/vnd.databricks.v1+cell": {
     "cellMetadata": {
      "byteLimit": 2048000,
      "rowLimit": 10000
     },
     "inputWidgets": {},
     "nuid": "93805780-bde9-41cb-93b1-565f6599003f",
     "showTitle": false,
     "tableResultSettingsMap": {},
     "title": ""
    }
   },
   "outputs": [],
   "source": [
    "df_ingested.createOrReplaceTempView('v_df_bronze')"
   ]
  },
  {
   "cell_type": "code",
   "execution_count": 0,
   "metadata": {
    "application/vnd.databricks.v1+cell": {
     "cellMetadata": {
      "byteLimit": 2048000,
      "implicitDf": true,
      "rowLimit": 10000
     },
     "inputWidgets": {},
     "nuid": "98a5662d-d29b-418c-9fc8-7ad540b727e4",
     "showTitle": false,
     "tableResultSettingsMap": {},
     "title": ""
    }
   },
   "outputs": [],
   "source": [
    "\n",
    "df_bronze = spark.sql(\"\"\"select \n",
    "  from_json(value,'STRUCT<chart: STRUCT<error: STRING, result: ARRAY<STRUCT<indicators: STRUCT<adjclose: ARRAY<STRUCT<adjclose: ARRAY<DOUBLE>>>, quote: ARRAY<STRUCT<close: ARRAY<DOUBLE>, high: ARRAY<DOUBLE>, low: ARRAY<DOUBLE>, open: ARRAY<DOUBLE>, volume: ARRAY<BIGINT>>>>, meta: STRUCT<chartPreviousClose: DOUBLE, currency: STRING, currentTradingPeriod: STRUCT<post: STRUCT<end: BIGINT, gmtoffset: BIGINT, start: BIGINT, timezone: STRING>, pre: STRUCT<end: BIGINT, gmtoffset: BIGINT, start: BIGINT, timezone: STRING>, regular: STRUCT<end: BIGINT, gmtoffset: BIGINT, start: BIGINT, timezone: STRING>>, dataGranularity: STRING, exchangeName: STRING, exchangeTimezoneName: STRING, fiftyTwoWeekHigh: DOUBLE, fiftyTwoWeekLow: DOUBLE, firstTradeDate: BIGINT, fullExchangeName: STRING, gmtoffset: BIGINT, hasPrePostMarketData: BOOLEAN, instrumentType: STRING, longName: STRING, priceHint: BIGINT, range: STRING, regularMarketDayHigh: DOUBLE, regularMarketDayLow: DOUBLE, regularMarketPrice: DOUBLE, regularMarketTime: BIGINT, regularMarketVolume: BIGINT, shortName: STRING, symbol: STRING, timezone: STRING, validRanges: ARRAY<STRING>>, timestamp: ARRAY<BIGINT>>>>>') as value\n",
    "from v_df_bronze\"\"\")"
   ]
  },
  {
   "cell_type": "code",
   "execution_count": 0,
   "metadata": {
    "application/vnd.databricks.v1+cell": {
     "cellMetadata": {
      "byteLimit": 2048000,
      "rowLimit": 10000
     },
     "inputWidgets": {},
     "nuid": "7df5d0b4-a529-42a0-ac6e-4bd928e1c1dd",
     "showTitle": false,
     "tableResultSettingsMap": {},
     "title": ""
    }
   },
   "outputs": [],
   "source": [
    "df_silver = (df_bronze\n",
    "    .selectExpr(\"value.chart.result[0].meta.symbol as symbol\",\n",
    "                \"value.chart.result[0].meta.longName as longName\",\n",
    "                \"value.chart.result[0].meta.fiftyTwoWeekHigh as fiftyTwoWeekHigh\",\n",
    "                \"value.chart.result[0].meta.fiftyTwoWeekLow as fiftyTwoWeekLow\",\n",
    "                \"value.chart.result[0].timestamp as timestamp\",\n",
    "                \"value.chart.result[0].indicators.quote[0].open as open\",\n",
    "                \"value.chart.result[0].indicators.quote[0].high as high\",\n",
    "                \"value.chart.result[0].indicators.quote[0].low as low\",\n",
    "                \"value.chart.result[0].indicators.quote[0].close as close\",\n",
    "                \"value.chart.result[0].indicators.quote[0].volume as volume\",\n",
    "                \"value.chart.result[0].indicators.adjclose[0].adjclose as adjclose\")\n",
    "    # Zip arrays together so each index aligns\n",
    "    .withColumn(\"zipped\", arrays_zip(\"timestamp\",\"open\",\"high\",\"low\",\"close\",\"volume\",\"adjclose\"))\n",
    "    # Explode zipped array → one row per trading day\n",
    "    .withColumn(\"zipped\", explode(col(\"zipped\")))\n",
    "    .withColumn(\"trade_date\",date_format(col(\"zipped.timestamp\").cast(\"timestamp\"),\"yyyy-MM-dd\"))\n",
    "    # Flatten zipped struct into columns\n",
    "    .select(\n",
    "        col(\"symbol\"),\n",
    "        col(\"longName\"),\n",
    "        col(\"trade_date\").cast(\"date\"),\n",
    "        round(col(\"zipped.open\"),2).alias(\"open\"),\n",
    "        round(col(\"zipped.high\"),2).alias(\"high\"),\n",
    "        round(col(\"zipped.low\"),2).alias(\"low\"),\n",
    "        round(col(\"zipped.close\"),2).alias(\"close\"),\n",
    "        col(\"zipped.volume\").alias(\"volume\"),\n",
    "        round(col(\"zipped.adjclose\"),2).alias(\"adjclose\"),\n",
    "        col(\"fiftyTwoWeekHigh\"),\n",
    "        col(\"fiftyTwoWeekLow\")\n",
    "    )\n",
    "    \n",
    ")"
   ]
  },
  {
   "cell_type": "code",
   "execution_count": 0,
   "metadata": {
    "application/vnd.databricks.v1+cell": {
     "cellMetadata": {
      "byteLimit": 2048000,
      "rowLimit": 10000
     },
     "inputWidgets": {},
     "nuid": "526bb28d-c741-4313-8892-a6b54a1524f1",
     "showTitle": false,
     "tableResultSettingsMap": {},
     "title": ""
    }
   },
   "outputs": [],
   "source": [
    "display(df_silver)"
   ]
  }
 ],
 "metadata": {
  "application/vnd.databricks.v1+notebook": {
   "computePreferences": {
    "hardware": {
     "accelerator": null,
     "gpuPoolId": null,
     "memory": null
    }
   },
   "dashboards": [],
   "environmentMetadata": {
    "base_environment": "",
    "environment_version": "3"
   },
   "inputWidgetPreferences": null,
   "language": "python",
   "notebookMetadata": {
    "mostRecentlyExecutedCommandWithImplicitDF": {
     "commandId": -1,
     "dataframes": [
      "_sqldf"
     ]
    },
    "pythonIndentUnit": 4
   },
   "notebookName": "silver",
   "widgets": {
    "p_catalog_name": {
     "currentValue": "stocks",
     "nuid": "f2612cf6-7bd1-4336-accf-ef744935d255",
     "typedWidgetInfo": {
      "autoCreated": false,
      "defaultValue": "",
      "label": null,
      "name": "p_catalog_name",
      "options": {
       "widgetDisplayType": "Text",
       "validationRegex": null
      },
      "parameterDataType": "String"
     },
     "widgetInfo": {
      "widgetType": "text",
      "defaultValue": "",
      "label": null,
      "name": "p_catalog_name",
      "options": {
       "widgetType": "text",
       "autoCreated": null,
       "validationRegex": null
      }
     }
    },
    "p_container": {
     "currentValue": "datamodel",
     "nuid": "f080169a-ce91-4bf4-ad26-c65324e3c488",
     "typedWidgetInfo": {
      "autoCreated": false,
      "defaultValue": "",
      "label": null,
      "name": "p_container",
      "options": {
       "widgetDisplayType": "Text",
       "validationRegex": null
      },
      "parameterDataType": "String"
     },
     "widgetInfo": {
      "widgetType": "text",
      "defaultValue": "",
      "label": null,
      "name": "p_container",
      "options": {
       "widgetType": "text",
       "autoCreated": null,
       "validationRegex": null
      }
     }
    },
    "p_last_loaded_date": {
     "currentValue": "1900-01-01",
     "nuid": "a1964002-136c-41cc-b929-0637f0ca3d45",
     "typedWidgetInfo": {
      "autoCreated": false,
      "defaultValue": "",
      "label": null,
      "name": "p_last_loaded_date",
      "options": {
       "widgetDisplayType": "Text",
       "validationRegex": null
      },
      "parameterDataType": "String"
     },
     "widgetInfo": {
      "widgetType": "text",
      "defaultValue": "",
      "label": null,
      "name": "p_last_loaded_date",
      "options": {
       "widgetType": "text",
       "autoCreated": null,
       "validationRegex": null
      }
     }
    },
    "p_schema_name": {
     "currentValue": "silver_dev",
     "nuid": "b4b8f8de-1524-4f13-b29d-a228eaa5d9ef",
     "typedWidgetInfo": {
      "autoCreated": false,
      "defaultValue": "",
      "label": null,
      "name": "p_schema_name",
      "options": {
       "widgetDisplayType": "Text",
       "validationRegex": null
      },
      "parameterDataType": "String"
     },
     "widgetInfo": {
      "widgetType": "text",
      "defaultValue": "",
      "label": null,
      "name": "p_schema_name",
      "options": {
       "widgetType": "text",
       "autoCreated": null,
       "validationRegex": null
      }
     }
    },
    "p_source_schema_name": {
     "currentValue": "bronze_dev",
     "nuid": "9d7f53e6-5442-4ccd-b650-36dd45c927ce",
     "typedWidgetInfo": {
      "autoCreated": false,
      "defaultValue": "",
      "label": null,
      "name": "p_source_schema_name",
      "options": {
       "widgetDisplayType": "Text",
       "validationRegex": null
      },
      "parameterDataType": "String"
     },
     "widgetInfo": {
      "widgetType": "text",
      "defaultValue": "",
      "label": null,
      "name": "p_source_schema_name",
      "options": {
       "widgetType": "text",
       "autoCreated": null,
       "validationRegex": null
      }
     }
    },
    "p_source_table_name": {
     "currentValue": "stocks_dev",
     "nuid": "d32b9b50-5666-4e03-98a9-4d5009fbe485",
     "typedWidgetInfo": {
      "autoCreated": false,
      "defaultValue": "",
      "label": null,
      "name": "p_source_table_name",
      "options": {
       "widgetDisplayType": "Text",
       "validationRegex": null
      },
      "parameterDataType": "String"
     },
     "widgetInfo": {
      "widgetType": "text",
      "defaultValue": "",
      "label": null,
      "name": "p_source_table_name",
      "options": {
       "widgetType": "text",
       "autoCreated": null,
       "validationRegex": null
      }
     }
    },
    "p_storage_account_baseURL": {
     "currentValue": "learndatamodelling.dfs.core.windows.net",
     "nuid": "a22b9efd-3536-4c1d-b657-76b64e24eeaa",
     "typedWidgetInfo": {
      "autoCreated": false,
      "defaultValue": "",
      "label": null,
      "name": "p_storage_account_baseURL",
      "options": {
       "widgetDisplayType": "Text",
       "validationRegex": null
      },
      "parameterDataType": "String"
     },
     "widgetInfo": {
      "widgetType": "text",
      "defaultValue": "",
      "label": null,
      "name": "p_storage_account_baseURL",
      "options": {
       "widgetType": "text",
       "autoCreated": null,
       "validationRegex": null
      }
     }
    },
    "p_table_name": {
     "currentValue": "stocks_dev",
     "nuid": "f7441b37-ff30-4e83-81f7-4f1a6c188c89",
     "typedWidgetInfo": {
      "autoCreated": false,
      "defaultValue": "",
      "label": null,
      "name": "p_table_name",
      "options": {
       "widgetDisplayType": "Text",
       "validationRegex": null
      },
      "parameterDataType": "String"
     },
     "widgetInfo": {
      "widgetType": "text",
      "defaultValue": "",
      "label": null,
      "name": "p_table_name",
      "options": {
       "widgetType": "text",
       "autoCreated": null,
       "validationRegex": null
      }
     }
    }
   }
  },
  "language_info": {
   "name": "python"
  }
 },
 "nbformat": 4,
 "nbformat_minor": 0
}
